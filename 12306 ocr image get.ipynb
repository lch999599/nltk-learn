{
 "cells": [
  {
   "cell_type": "markdown",
   "metadata": {},
   "source": [
    "1. 下载图片\n",
    "2. 将图片切分为小图片，并转换为gray，降低通道\n",
    "3. 使用tensorflow的imagenet进行分类，将图片存放到对应分类的目录中\n",
    "4. 将分类的图片进行检查，看是否有不同类的图片存放在了同一个目录中\n",
    "5. 识别12306验证码名称\n",
    "6. 将图片的分类的目录名修改为12306的验证码显示名称\n",
    "7. 重新训练一个12306验证码分类的神经网络"
   ]
  }
 ],
 "metadata": {
  "kernelspec": {
   "display_name": "Python 3",
   "language": "python",
   "name": "python3"
  },
  "language_info": {
   "codemirror_mode": {
    "name": "ipython",
    "version": 3
   },
   "file_extension": ".py",
   "mimetype": "text/x-python",
   "name": "python",
   "nbconvert_exporter": "python",
   "pygments_lexer": "ipython3",
   "version": "3.6.1"
  }
 },
 "nbformat": 4,
 "nbformat_minor": 0
}
