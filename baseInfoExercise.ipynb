{
 "cells": [
  {
   "cell_type": "code",
   "execution_count": 1,
   "metadata": {
    "collapsed": true
   },
   "outputs": [],
   "source": [
    "import random\n",
    "import nltk\n",
    "import numpy as np\n",
    "import re\n",
    "import random"
   ]
  },
  {
   "cell_type": "code",
   "execution_count": 16,
   "metadata": {},
   "outputs": [
    {
     "data": {
      "text/plain": [
       "array([[-0.64054497,  0.7744004 ,  0.07262671,  0.58155809,  0.5490441 ],\n",
       "       [ 0.14832752, -0.31746908,  0.6620868 , -0.87516989, -0.22798615],\n",
       "       [-0.08979561, -0.93304579,  0.48616842, -0.14557167, -0.8877336 ],\n",
       "       [-1.01165613,  0.5585894 , -0.06728183,  0.61792138,  0.5608857 ],\n",
       "       [ 0.18655911, -1.26121166, -1.47965076,  1.05424464, -0.22201708]])"
      ]
     },
     "execution_count": 16,
     "metadata": {},
     "output_type": "execute_result"
    }
   ],
   "source": [
    "item = np.random.randn(5, 5)\n",
    "item"
   ]
  },
  {
   "cell_type": "code",
   "execution_count": 41,
   "metadata": {
    "collapsed": true
   },
   "outputs": [],
   "source": [
    "a= list(range(10))\n",
    "random.shuffle(a)"
   ]
  },
  {
   "cell_type": "code",
   "execution_count": 43,
   "metadata": {
    "collapsed": true
   },
   "outputs": [],
   "source": [
    "egstr = \"i love tiananmen , i enjoy good food . i will watch a movie in the morning\""
   ]
  },
  {
   "cell_type": "code",
   "execution_count": 44,
   "metadata": {
    "collapsed": true
   },
   "outputs": [],
   "source": [
    "word = nltk.word_tokenize(egstr)"
   ]
  },
  {
   "cell_type": "code",
   "execution_count": 47,
   "metadata": {},
   "outputs": [
    {
     "name": "stdout",
     "output_type": "stream",
     "text": [
      "('i', 'love', 'tiananmen')\n",
      "('love', 'tiananmen', ',')\n",
      "('tiananmen', ',', 'i')\n",
      "(',', 'i', 'enjoy')\n",
      "('i', 'enjoy', 'good')\n",
      "('enjoy', 'good', 'food')\n",
      "('good', 'food', '.')\n",
      "('food', '.', 'i')\n",
      "('.', 'i', 'will')\n",
      "('i', 'will', 'watch')\n",
      "('will', 'watch', 'a')\n",
      "('watch', 'a', 'movie')\n",
      "('a', 'movie', 'in')\n",
      "('movie', 'in', 'the')\n",
      "('in', 'the', 'morning')\n"
     ]
    }
   ],
   "source": [
    "for i in nltk.ngrams(word, 3):\n",
    "    print(i)"
   ]
  },
  {
   "cell_type": "code",
   "execution_count": 49,
   "metadata": {},
   "outputs": [
    {
     "data": {
      "text/plain": [
       "'i love this'"
      ]
     },
     "execution_count": 49,
     "metadata": {},
     "output_type": "execute_result"
    }
   ],
   "source": [
    "re.sub(r\"\\s+\", \" \", \"i    love   this\")"
   ]
  },
  {
   "cell_type": "code",
   "execution_count": 70,
   "metadata": {},
   "outputs": [
    {
     "data": {
      "text/plain": [
       "'i    love   this'"
      ]
     },
     "execution_count": 70,
     "metadata": {},
     "output_type": "execute_result"
    }
   ],
   "source": [
    "re.sub(r\"<\\w*>\", \" \", \"i    love   this\")"
   ]
  },
  {
   "cell_type": "code",
   "execution_count": 72,
   "metadata": {
    "scrolled": true
   },
   "outputs": [
    {
     "data": {
      "text/plain": [
       "[('i', 'NN'),\n",
       " ('love', 'VBP'),\n",
       " ('tiananmen', 'NNS'),\n",
       " (',', ','),\n",
       " ('i', 'JJ'),\n",
       " ('enjoy', 'VBP'),\n",
       " ('good', 'JJ'),\n",
       " ('food', 'NN'),\n",
       " ('.', '.'),\n",
       " ('i', 'NN'),\n",
       " ('will', 'MD'),\n",
       " ('watch', 'VB'),\n",
       " ('a', 'DT'),\n",
       " ('movie', 'NN'),\n",
       " ('in', 'IN'),\n",
       " ('the', 'DT'),\n",
       " ('morning', 'NN')]"
      ]
     },
     "execution_count": 72,
     "metadata": {},
     "output_type": "execute_result"
    }
   ],
   "source": [
    "nltk.pos_tag(word)"
   ]
  }
 ],
 "metadata": {
  "kernelspec": {
   "display_name": "Python 3",
   "language": "python",
   "name": "python3"
  },
  "language_info": {
   "codemirror_mode": {
    "name": "ipython",
    "version": 3
   },
   "file_extension": ".py",
   "mimetype": "text/x-python",
   "name": "python",
   "nbconvert_exporter": "python",
   "pygments_lexer": "ipython3",
   "version": "3.6.1"
  }
 },
 "nbformat": 4,
 "nbformat_minor": 2
}
